{
 "cells": [
  {
   "cell_type": "code",
   "execution_count": null,
   "id": "14c19ff3",
   "metadata": {},
   "outputs": [],
   "source": [
    "from binance.async_client import AsyncClient\n",
    "from dotenv import load_dotenv\n",
    "\n",
    "from staarb.data.exchange_info_fetcher import BinanceExchangeInfoFetcher\n",
    "from staarb.data.ohlc_fetcher import MarketDataFetcher\n",
    "from staarb.data.types import DataRequest"
   ]
  },
  {
   "cell_type": "code",
   "execution_count": 2,
   "id": "86abbb4e",
   "metadata": {},
   "outputs": [],
   "source": [
    "load_dotenv()\n",
    "import os\n",
    "\n",
    "client = await AsyncClient.create(os.environ[\"BINANCE_API_KEY\"], os.environ[\"BINANCE_SECRET_KEY\"])"
   ]
  },
  {
   "cell_type": "code",
   "execution_count": 6,
   "id": "e5425fae",
   "metadata": {},
   "outputs": [
    {
     "data": {
      "text/plain": [
       "Symbol(symbol='BTCUSDT', base_asset='BTC', quote_asset='USDT', base_asset_precision=8, quote_asset_precision=8, filters=Filters(lot_size=LotSizeFilter(min_qty='0.00001000', max_qty='9000.00000000', step_size='0.00001000'), price=PriceFilter(min_price='0.01000000', max_price='1000000.00000000', tick_size='0.01000000'), notional=NotionalFitter(min_notional='5.00000000', max_notional='9000000.00000000')))"
      ]
     },
     "execution_count": 6,
     "metadata": {},
     "output_type": "execute_result"
    }
   ],
   "source": [
    "exchange_info_fetcher = BinanceExchangeInfoFetcher(client)\n",
    "await exchange_info_fetcher.fetch_exchange_info()\n",
    "exchange_info_fetcher.get_symbol_info(\"BTCUSDT\")"
   ]
  },
  {
   "cell_type": "code",
   "execution_count": 4,
   "id": "55ed273c",
   "metadata": {},
   "outputs": [],
   "source": [
    "data_req = DataRequest(\"1h\", \"2023-01-01\", \"2023-02-01\")\n",
    "fetcher = MarketDataFetcher(client)\n",
    "d = await fetcher.fetch_multiple_klines([\"BTCUSDT\", \"ETHUSDT\"], data_req)"
   ]
  },
  {
   "cell_type": "code",
   "execution_count": null,
   "id": "53008087",
   "metadata": {},
   "outputs": [
    {
     "name": "stdout",
     "output_type": "stream",
     "text": [
      "(2, 745)\n"
     ]
    }
   ],
   "source": [
    "import numpy as np\n",
    "\n",
    "# Extract the 'close' values for each asset and stack them\n",
    "asset_names = list(d.keys())\n",
    "close_arrays = [d[symbol][\"close\"].values for symbol in asset_names]\n",
    "combined_array = np.stack(close_arrays)\n",
    "\n",
    "print(combined_array.shape)  # Should be (num_assets, num_klines)"
   ]
  },
  {
   "cell_type": "code",
   "execution_count": 12,
   "id": "4ec4623f",
   "metadata": {},
   "outputs": [
    {
     "data": {
      "text/plain": [
       "array([[16529.67, 16551.47, 16548.19, ..., 23181.81, 23125.13, 23085.73],\n",
       "       [ 1194.09,  1196.02,  1195.4 , ...,  1590.32,  1585.33,  1583.34]],\n",
       "      shape=(2, 745))"
      ]
     },
     "execution_count": 12,
     "metadata": {},
     "output_type": "execute_result"
    }
   ],
   "source": [
    "np.concat([d[symbol].to_numpy().T for symbol in d], axis=0)"
   ]
  }
 ],
 "metadata": {
  "kernelspec": {
   "display_name": "statarb",
   "language": "python",
   "name": "statarb"
  },
  "language_info": {
   "codemirror_mode": {
    "name": "ipython",
    "version": 3
   },
   "file_extension": ".py",
   "mimetype": "text/x-python",
   "name": "python",
   "nbconvert_exporter": "python",
   "pygments_lexer": "ipython3",
   "version": "3.11.11"
  }
 },
 "nbformat": 4,
 "nbformat_minor": 5
}
